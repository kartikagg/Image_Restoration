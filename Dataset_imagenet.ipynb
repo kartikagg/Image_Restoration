{
 "cells": [
  {
   "cell_type": "markdown",
   "id": "7f84cdfd",
   "metadata": {},
   "source": [
    "## pip install datasets Pillow\n",
    "\n",
    "Run this command in the terminal"
   ]
  },
  {
   "cell_type": "markdown",
   "id": "82d2a6f2",
   "metadata": {},
   "source": [
    "1. https://huggingface.co/settings/tokens go here to get the 'write' token. \n",
    "\n",
    "## huggingface-cli login\n",
    "\n",
    "Run this command in the terminal\n",
    "\n",
    "2. When prompted, give the token (from step 1) in the terminal. \n",
    "\n",
    "3.  https://huggingface.co/datasets/imagenet-1k go here to accept the terms and conditions to access imageNet dataset.\n"
   ]
  },
  {
   "cell_type": "code",
   "execution_count": 1,
   "id": "a76ac221",
   "metadata": {},
   "outputs": [],
   "source": [
    "import numpy as np\n",
    "import matplotlib.pyplot as plt\n",
    "import cv2\n",
    "import pickle"
   ]
  },
  {
   "cell_type": "code",
   "execution_count": 3,
   "id": "01433527",
   "metadata": {},
   "outputs": [],
   "source": [
    "from datasets import load_dataset"
   ]
  },
  {
   "cell_type": "code",
   "execution_count": null,
   "id": "2f3140b4",
   "metadata": {},
   "outputs": [],
   "source": []
  },
  {
   "cell_type": "code",
   "execution_count": 4,
   "id": "e99f39ac",
   "metadata": {
    "scrolled": true
   },
   "outputs": [
    {
     "name": "stderr",
     "output_type": "stream",
     "text": [
      "Found cached dataset imagenet-1k (C:/Users/lasya/.cache/huggingface/datasets/imagenet-1k/default/1.0.0/a1e9bfc56c3a7350165007d1176b15e9128fcaf9ab972147840529aed3ae52bc)\n"
     ]
    },
    {
     "data": {
      "application/json": {
       "ascii": false,
       "bar_format": null,
       "colour": null,
       "elapsed": 0.019435644149780273,
       "initial": 0,
       "n": 0,
       "ncols": null,
       "nrows": 29,
       "postfix": null,
       "prefix": "",
       "rate": null,
       "total": 3,
       "unit": "it",
       "unit_divisor": 1000,
       "unit_scale": false
      },
      "application/vnd.jupyter.widget-view+json": {
       "model_id": "119ec5ad3d984d6782cf1ff13e4a9e7e",
       "version_major": 2,
       "version_minor": 0
      },
      "text/plain": [
       "  0%|          | 0/3 [00:00<?, ?it/s]"
      ]
     },
     "metadata": {},
     "output_type": "display_data"
    }
   ],
   "source": [
    "ds = load_dataset(\"imagenet-1k\")"
   ]
  },
  {
   "cell_type": "code",
   "execution_count": 28,
   "id": "cf24e86f",
   "metadata": {},
   "outputs": [],
   "source": [
    "def colored():\n",
    "    l = 0\n",
    "    imgs = []\n",
    "    for i in range(len(ds['validation'])):\n",
    "        if np.array(ds['validation'][i]['image']).shape[-1] == 3:\n",
    "            imgs.append(np.array(ds['validation'][i]['image']))\n",
    "            l = l + 1\n",
    "            \n",
    "        if l == 3000:\n",
    "            return imgs\n",
    "            \n",
    "        \n",
    "        "
   ]
  },
  {
   "cell_type": "code",
   "execution_count": 2,
   "id": "1341ae12",
   "metadata": {},
   "outputs": [
    {
     "ename": "NameError",
     "evalue": "name 'pickle' is not defined",
     "output_type": "error",
     "traceback": [
      "\u001b[1;31m---------------------------------------------------------------------------\u001b[0m",
      "\u001b[1;31mNameError\u001b[0m                                 Traceback (most recent call last)",
      "\u001b[1;32m~\\AppData\\Local\\Temp/ipykernel_10468/2398562019.py\u001b[0m in \u001b[0;36m<module>\u001b[1;34m\u001b[0m\n\u001b[0;32m      3\u001b[0m \u001b[1;33m\u001b[0m\u001b[0m\n\u001b[0;32m      4\u001b[0m \u001b[1;31m# dump information to that file\u001b[0m\u001b[1;33m\u001b[0m\u001b[1;33m\u001b[0m\u001b[1;33m\u001b[0m\u001b[0m\n\u001b[1;32m----> 5\u001b[1;33m \u001b[0mpickle\u001b[0m\u001b[1;33m.\u001b[0m\u001b[0mdump\u001b[0m\u001b[1;33m(\u001b[0m\u001b[0mresized\u001b[0m\u001b[1;33m,\u001b[0m \u001b[0mfile\u001b[0m\u001b[1;33m)\u001b[0m\u001b[1;33m\u001b[0m\u001b[1;33m\u001b[0m\u001b[0m\n\u001b[0m\u001b[0;32m      6\u001b[0m \u001b[1;33m\u001b[0m\u001b[0m\n\u001b[0;32m      7\u001b[0m \u001b[1;31m# close the file\u001b[0m\u001b[1;33m\u001b[0m\u001b[1;33m\u001b[0m\u001b[1;33m\u001b[0m\u001b[0m\n",
      "\u001b[1;31mNameError\u001b[0m: name 'pickle' is not defined"
     ]
    }
   ],
   "source": [
    "#resized = colored()\n",
    "file = open('imagenet_subset_1.pkl', 'wb')\n",
    "\n",
    "# dump information to that file\n",
    "pickle.dump(resized, file)\n",
    "\n",
    "# close the file\n",
    "file.close()"
   ]
  },
  {
   "cell_type": "code",
   "execution_count": 1,
   "id": "764b2b53",
   "metadata": {},
   "outputs": [],
   "source": [
    "def resize(b):\n",
    "    resized = []\n",
    "    for i in range(len(b)):\n",
    "        resized.append(cv2.resize(np.array(b[i]), (128,128), interpolation = cv2.INTER_AREA))\n",
    "    return resized"
   ]
  },
  {
   "cell_type": "markdown",
   "id": "6fbf0842",
   "metadata": {},
   "source": [
    "All the images are not the same size, so we resize it to 128 x 128."
   ]
  },
  {
   "cell_type": "code",
   "execution_count": 5,
   "id": "c992e50d",
   "metadata": {},
   "outputs": [
    {
     "name": "stderr",
     "output_type": "stream",
     "text": [
      "C:\\Users\\lasya\\AppData\\Local\\Temp/ipykernel_11088/255443329.py:1: FutureWarning: The input object of type 'JpegImageFile' is an array-like implementing one of the corresponding protocols (`__array__`, `__array_interface__` or `__array_struct__`); but not a sequence (or 0-D). In the future, this object will be coerced as if it was first converted using `np.array(obj)`. To retain the old behaviour, you have to either modify the type 'JpegImageFile', or assign to an empty array created with `np.empty(correct_shape, dtype=object)`.\n",
      "  b = np.array(ds['train'][20001:30000]['image'])\n",
      "C:\\Users\\lasya\\AppData\\Local\\Temp/ipykernel_11088/255443329.py:1: VisibleDeprecationWarning: Creating an ndarray from ragged nested sequences (which is a list-or-tuple of lists-or-tuples-or ndarrays with different lengths or shapes) is deprecated. If you meant to do this, you must specify 'dtype=object' when creating the ndarray.\n",
      "  b = np.array(ds['train'][20001:30000]['image'])\n"
     ]
    }
   ],
   "source": [
    "b = np.array(ds['train'][20001:30000]['image'])"
   ]
  },
  {
   "cell_type": "code",
   "execution_count": 6,
   "id": "2e4a9506",
   "metadata": {},
   "outputs": [],
   "source": [
    "resized = resize(b)"
   ]
  },
  {
   "cell_type": "code",
   "execution_count": 7,
   "id": "b794a200",
   "metadata": {},
   "outputs": [],
   "source": [
    "file = open('imagenet_subset_3.pkl', 'wb')\n",
    "\n",
    "# dump information to that file\n",
    "pickle.dump(resized, file)\n",
    "\n",
    "# close the file\n",
    "file.close()"
   ]
  },
  {
   "cell_type": "code",
   "execution_count": 10,
   "id": "a52bd0ad",
   "metadata": {},
   "outputs": [
    {
     "name": "stderr",
     "output_type": "stream",
     "text": [
      "C:\\Users\\lasya\\AppData\\Local\\Temp/ipykernel_11088/2335701307.py:1: FutureWarning: The input object of type 'JpegImageFile' is an array-like implementing one of the corresponding protocols (`__array__`, `__array_interface__` or `__array_struct__`); but not a sequence (or 0-D). In the future, this object will be coerced as if it was first converted using `np.array(obj)`. To retain the old behaviour, you have to either modify the type 'JpegImageFile', or assign to an empty array created with `np.empty(correct_shape, dtype=object)`.\n",
      "  b_test = np.array(ds['test'][0:3000]['image'])\n",
      "C:\\Users\\lasya\\AppData\\Local\\Temp/ipykernel_11088/2335701307.py:1: VisibleDeprecationWarning: Creating an ndarray from ragged nested sequences (which is a list-or-tuple of lists-or-tuples-or ndarrays with different lengths or shapes) is deprecated. If you meant to do this, you must specify 'dtype=object' when creating the ndarray.\n",
      "  b_test = np.array(ds['test'][0:3000]['image'])\n"
     ]
    }
   ],
   "source": [
    "b_test = np.array(ds['test'][0:3000]['image'])"
   ]
  },
  {
   "cell_type": "code",
   "execution_count": 3,
   "id": "f4b92e4f",
   "metadata": {
    "scrolled": true
   },
   "outputs": [
    {
     "ename": "NameError",
     "evalue": "name 'colored' is not defined",
     "output_type": "error",
     "traceback": [
      "\u001b[1;31m---------------------------------------------------------------------------\u001b[0m",
      "\u001b[1;31mNameError\u001b[0m                                 Traceback (most recent call last)",
      "\u001b[1;32m~\\AppData\\Local\\Temp/ipykernel_10468/1759252741.py\u001b[0m in \u001b[0;36m<module>\u001b[1;34m\u001b[0m\n\u001b[1;32m----> 1\u001b[1;33m \u001b[0mresized\u001b[0m \u001b[1;33m=\u001b[0m \u001b[0mcolored\u001b[0m\u001b[1;33m(\u001b[0m\u001b[1;33m)\u001b[0m\u001b[1;33m\u001b[0m\u001b[1;33m\u001b[0m\u001b[0m\n\u001b[0m",
      "\u001b[1;31mNameError\u001b[0m: name 'colored' is not defined"
     ]
    }
   ],
   "source": [
    "resized = colored()"
   ]
  },
  {
   "cell_type": "code",
   "execution_count": 4,
   "id": "c5f8f422",
   "metadata": {},
   "outputs": [
    {
     "ename": "NameError",
     "evalue": "name 'pickle' is not defined",
     "output_type": "error",
     "traceback": [
      "\u001b[1;31m---------------------------------------------------------------------------\u001b[0m",
      "\u001b[1;31mNameError\u001b[0m                                 Traceback (most recent call last)",
      "\u001b[1;32m~\\AppData\\Local\\Temp/ipykernel_10468/862028081.py\u001b[0m in \u001b[0;36m<module>\u001b[1;34m\u001b[0m\n\u001b[0;32m      2\u001b[0m \u001b[1;33m\u001b[0m\u001b[0m\n\u001b[0;32m      3\u001b[0m \u001b[1;31m# dump information to that file\u001b[0m\u001b[1;33m\u001b[0m\u001b[1;33m\u001b[0m\u001b[1;33m\u001b[0m\u001b[0m\n\u001b[1;32m----> 4\u001b[1;33m \u001b[0mpickle\u001b[0m\u001b[1;33m.\u001b[0m\u001b[0mdump\u001b[0m\u001b[1;33m(\u001b[0m\u001b[0mresized\u001b[0m\u001b[1;33m,\u001b[0m \u001b[0mfile\u001b[0m\u001b[1;33m)\u001b[0m\u001b[1;33m\u001b[0m\u001b[1;33m\u001b[0m\u001b[0m\n\u001b[0m\u001b[0;32m      5\u001b[0m \u001b[1;33m\u001b[0m\u001b[0m\n\u001b[0;32m      6\u001b[0m \u001b[1;31m# close the file\u001b[0m\u001b[1;33m\u001b[0m\u001b[1;33m\u001b[0m\u001b[1;33m\u001b[0m\u001b[0m\n",
      "\u001b[1;31mNameError\u001b[0m: name 'pickle' is not defined"
     ]
    }
   ],
   "source": [
    "file = open('imagenet_testset.pkl', 'wb')\n",
    "\n",
    "# dump information to that file\n",
    "pickle.dump(resized, file)\n",
    "\n",
    "# close the file\n",
    "file.close()\n"
   ]
  },
  {
   "cell_type": "code",
   "execution_count": 13,
   "id": "803dfc02",
   "metadata": {},
   "outputs": [
    {
     "name": "stderr",
     "output_type": "stream",
     "text": [
      "C:\\Users\\lasya\\AppData\\Local\\Temp/ipykernel_11088/3061999126.py:1: FutureWarning: The input object of type 'JpegImageFile' is an array-like implementing one of the corresponding protocols (`__array__`, `__array_interface__` or `__array_struct__`); but not a sequence (or 0-D). In the future, this object will be coerced as if it was first converted using `np.array(obj)`. To retain the old behaviour, you have to either modify the type 'JpegImageFile', or assign to an empty array created with `np.empty(correct_shape, dtype=object)`.\n",
      "  b_val = np.array(ds['validation'][0:3000]['image'])\n",
      "C:\\Users\\lasya\\AppData\\Local\\Temp/ipykernel_11088/3061999126.py:1: VisibleDeprecationWarning: Creating an ndarray from ragged nested sequences (which is a list-or-tuple of lists-or-tuples-or ndarrays with different lengths or shapes) is deprecated. If you meant to do this, you must specify 'dtype=object' when creating the ndarray.\n",
      "  b_val = np.array(ds['validation'][0:3000]['image'])\n"
     ]
    }
   ],
   "source": [
    "b_val = np.array(ds['validation'][0:3000]['image'])"
   ]
  },
  {
   "cell_type": "code",
   "execution_count": 29,
   "id": "ef4a5d07",
   "metadata": {},
   "outputs": [],
   "source": [
    "resized = colored()"
   ]
  },
  {
   "cell_type": "code",
   "execution_count": 30,
   "id": "fc443b05",
   "metadata": {},
   "outputs": [],
   "source": [
    "file = open('imagenet_valset.pkl', 'wb')\n",
    "\n",
    "# dump information to that file\n",
    "pickle.dump(resized, file)\n",
    "\n",
    "# close the file\n",
    "file.close()"
   ]
  },
  {
   "cell_type": "markdown",
   "id": "5ce0884c",
   "metadata": {},
   "source": [
    "Here, we are saving 10000- train files, 1000- test and validation files. "
   ]
  },
  {
   "cell_type": "markdown",
   "id": "2c90109c",
   "metadata": {},
   "source": [
    "Note: Don't forget to clear cache after pickling files. "
   ]
  },
  {
   "cell_type": "markdown",
   "id": "75221115",
   "metadata": {},
   "source": [
    "This is the code to read the pickle file. In ds_p the resized list of all the images (np.arrays) will be stored. You can access the first images by ds_p[0] and you can plot the image by plt.imshow(ds_p[0]). The shape of ds_p[0] is (128, 128,3). The length of ds_p indicates the no.of images. "
   ]
  },
  {
   "cell_type": "code",
   "execution_count": 198,
   "id": "221be6f9",
   "metadata": {},
   "outputs": [],
   "source": [
    "#file = open('filename', 'rb')\n",
    "\n",
    "\n",
    "# ds_p = pickle.load(file)\n",
    "\n",
    "\n",
    "# file.close()"
   ]
  }
 ],
 "metadata": {
  "kernelspec": {
   "display_name": "Python 3 (ipykernel)",
   "language": "python",
   "name": "python3"
  },
  "language_info": {
   "codemirror_mode": {
    "name": "ipython",
    "version": 3
   },
   "file_extension": ".py",
   "mimetype": "text/x-python",
   "name": "python",
   "nbconvert_exporter": "python",
   "pygments_lexer": "ipython3",
   "version": "3.9.6"
  }
 },
 "nbformat": 4,
 "nbformat_minor": 5
}
