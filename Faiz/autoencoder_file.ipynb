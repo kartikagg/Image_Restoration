{
 "cells": [
  {
   "cell_type": "code",
   "execution_count": null,
   "metadata": {
    "id": "f4dhY72IL6GF"
   },
   "outputs": [],
   "source": [
    "# from IPython import display\n",
    "\n",
    "# import glob\n",
    "# import imageio\n",
    "# import matplotlib.pyplot as plt\n",
    "# import numpy as np\n",
    "# import PIL\n",
    "# import tensorflow as tf\n",
    "# import tensorflow_probability as tfp\n",
    "# import time"
   ]
  },
  {
   "cell_type": "code",
   "execution_count": null,
   "metadata": {
    "id": "RmZIjjBLYNjx"
   },
   "outputs": [],
   "source": [
    "# ! wget http://vis-www.cs.umass.edu/lfw/lfw.tgz"
   ]
  },
  {
   "cell_type": "code",
   "execution_count": null,
   "metadata": {
    "colab": {
     "base_uri": "https://localhost:8080/"
    },
    "id": "Zbewq9XxWIH7",
    "outputId": "6f58378a-0012-48de-af77-3b0b0afe5807"
   },
   "outputs": [],
   "source": [
    "# from google.colab import drive\n",
    "# drive.mount('/content/drive/')"
   ]
  },
  {
   "cell_type": "code",
   "execution_count": 1,
   "metadata": {
    "id": "6sGiJTSiYXsb"
   },
   "outputs": [],
   "source": [
    "import cv2\n",
    "import numpy as np\n",
    "import matplotlib.pyplot as plt\n",
    "from sklearn.model_selection import train_test_split\n",
    "import tensorflow as tf\n",
    "from tensorflow.keras import Model, Input, regularizers\n",
    "from tensorflow.keras.layers import Dense, Conv2D, MaxPool2D, UpSampling2D, Reshape\n",
    "from tensorflow.keras.callbacks import EarlyStopping\n",
    "from keras.preprocessing import image\n",
    "from tensorflow.keras.utils import load_img,img_to_array\n",
    "\n",
    "import glob\n",
    "from tqdm import tqdm\n",
    "import warnings;\n",
    "warnings.filterwarnings('ignore')\n",
    "import pickle\n",
    "from tensorflow.keras.models import Sequential\n",
    "from tensorflow.keras.layers import Dense,Flatten,Reshape\n",
    "from tensorflow.keras.optimizers import SGD"
   ]
  },
  {
   "cell_type": "code",
   "execution_count": 2,
   "metadata": {
    "id": "tNsFM7I5YSIw"
   },
   "outputs": [],
   "source": [
    "# ! tar -xvzf lfw.tgz"
   ]
  },
  {
   "cell_type": "code",
   "execution_count": 3,
   "metadata": {
    "id": "G8gz6U8OYWSH"
   },
   "outputs": [],
   "source": [
    "# face_images = glob.glob('lfw/**/*.jpg')"
   ]
  },
  {
   "cell_type": "code",
   "execution_count": 4,
   "metadata": {
    "id": "3OoYNH0CYXrq"
   },
   "outputs": [],
   "source": [
    "# all_images = []\n",
    "\n",
    "# for i in tqdm(face_images):\n",
    "#   img = load_img(i, target_size=(80,80,3))\n",
    "#   img = img_to_array(img)\n",
    "#   img = img/255.\n",
    "#   all_images.append(img)"
   ]
  },
  {
   "cell_type": "code",
   "execution_count": 5,
   "metadata": {
    "id": "fCWqIqQCYXhh"
   },
   "outputs": [],
   "source": [
    "# ll_images = np.array(all_images)\n",
    "\n",
    "# # split data into train and validation data\n",
    "# train_x, val_x = train_test_split(all_images, random_state=32, test_size=0.1)"
   ]
  },
  {
   "cell_type": "code",
   "execution_count": 6,
   "metadata": {
    "id": "K-bUYPlkZUWi"
   },
   "outputs": [],
   "source": [
    "# def pixalate_image(image, scale_percent = 40):\n",
    "#   width = int(image.shape[1] * scale_percent / 100)\n",
    "#   height = int(image.shape[0] * scale_percent / 100)\n",
    "#   dim = (width, height)\n",
    "\n",
    "#   small_image = cv2.resize(image, dim, interpolation = cv2.INTER_AREA)\n",
    "  \n",
    "#   # scale back to original size\n",
    "#   width = int(small_image.shape[1] * 100 / scale_percent)\n",
    "#   height = int(small_image.shape[0] * 100 / scale_percent)\n",
    "#   dim = (width, height)\n",
    "\n",
    "#   low_res_image = cv2.resize(small_image, dim, interpolation = cv2.INTER_AREA)\n",
    "\n",
    "#   return low_res_image"
   ]
  },
  {
   "cell_type": "code",
   "execution_count": 7,
   "metadata": {
    "id": "hocds-ciqWs4"
   },
   "outputs": [],
   "source": [
    "file = open('gola_train.pkl','rb')\n",
    "\n",
    "X_train = pickle.load(file)\n",
    "file.close()"
   ]
  },
  {
   "cell_type": "code",
   "execution_count": 8,
   "metadata": {
    "id": "NwaUgkHjwXSI"
   },
   "outputs": [],
   "source": [
    "file = open('imagenet_subset.pkl','rb')\n",
    "\n",
    "y_train = pickle.load(file)\n",
    "# y_train = y_train[3000:6000]\n",
    "\n",
    "file.close()"
   ]
  },
  {
   "cell_type": "code",
   "execution_count": 9,
   "metadata": {
    "id": "mzhKw2dIwf6u"
   },
   "outputs": [],
   "source": [
    "file = open('gola_test.pkl','rb')\n",
    "\n",
    "X_test = pickle.load(file)\n",
    "\n",
    "file.close()"
   ]
  },
  {
   "cell_type": "code",
   "execution_count": 10,
   "metadata": {
    "id": "UotHgRAQwl0C"
   },
   "outputs": [],
   "source": [
    "file = open('imagenet_testset.pkl','rb')\n",
    "\n",
    "y_test = pickle.load(file)\n",
    "# y_test = y_test[300:600]\n",
    "\n",
    "file.close()"
   ]
  },
  {
   "cell_type": "code",
   "execution_count": 11,
   "metadata": {
    "id": "OSn_MIK3mYDI"
   },
   "outputs": [],
   "source": [
    "file = open('gola_val.pkl','rb')\n",
    "\n",
    "X_val = pickle.load(file)\n",
    "# y_test = y_test[300:600]\n",
    "\n",
    "file.close()"
   ]
  },
  {
   "cell_type": "code",
   "execution_count": 12,
   "metadata": {
    "id": "lDnhvNSHmXL7"
   },
   "outputs": [],
   "source": [
    "file = open('imagenet_valset.pkl','rb')\n",
    "\n",
    "y_val = pickle.load(file)\n",
    "# y_test = y_test[300:600]\n",
    "\n",
    "file.close()"
   ]
  },
  {
   "cell_type": "code",
   "execution_count": 13,
   "metadata": {
    "id": "nrS8_JY7XBBG"
   },
   "outputs": [],
   "source": [
    "import cv2\n",
    "import pandas as pd"
   ]
  },
  {
   "cell_type": "code",
   "execution_count": 14,
   "metadata": {
    "id": "O3-IQK5hXCpQ"
   },
   "outputs": [],
   "source": [
    "def resize_images(img, new_width, new_height):\n",
    "    size = (new_width, new_height)\n",
    "    resized_img = cv2.resize(img, size)\n",
    "    return resized_img"
   ]
  },
  {
   "cell_type": "code",
   "execution_count": 15,
   "metadata": {
    "id": "J_7Yi40SXGJv"
   },
   "outputs": [],
   "source": [
    "resized_img_Xtrain = [resize_images(img, new_width=80, new_height=80) for img in X_train]\n",
    "resized_img_Ytrain = [resize_images(img, new_width=80, new_height=80) for img in y_train]\n",
    "resized_img_Xtest = [resize_images(img, new_width=80, new_height=80) for img in X_test]\n",
    "resized_img_Ytest = [resize_images(img, new_width=80, new_height=80) for img in y_test]\n",
    "resized_img_Xval = [resize_images(img, new_width=80, new_height=80) for img in X_val]\n",
    "resized_img_Yval = [resize_images(img, new_width=80, new_height=80) for img in y_val]\n",
    "\n",
    "\n"
   ]
  },
  {
   "cell_type": "code",
   "execution_count": 16,
   "metadata": {
    "colab": {
     "base_uri": "https://localhost:8080/",
     "height": 286
    },
    "id": "LhIQhUQGXduG",
    "outputId": "5989fe63-7d41-44f9-c902-0dc4073343b0"
   },
   "outputs": [
    {
     "data": {
      "text/plain": [
       "<matplotlib.image.AxesImage at 0x15d6dfd00>"
      ]
     },
     "execution_count": 16,
     "metadata": {},
     "output_type": "execute_result"
    },
    {
     "data": {
      "image/png": "[encoded data removed]",
      "text/plain": [
       "<Figure size 640x480 with 1 Axes>"
      ]
     },
     "metadata": {},
     "output_type": "display_data"
    }
   ],
   "source": [
    "plt.imshow(resized_img_Xval[0])"
   ]
  },
  {
   "cell_type": "code",
   "execution_count": 17,
   "metadata": {
    "id": "RB47v9MXy4Hk"
   },
   "outputs": [],
   "source": [
    "# for i in range(len(resized_img_Yval)):\n",
    "#   if resized_img_Yval[i].shape[-1] != 3:\n",
    "#     pass\n",
    "\n",
    "#   print(resized_img_Yval[i].shape)"
   ]
  },
  {
   "cell_type": "code",
   "execution_count": 18,
   "metadata": {
    "id": "dCD-X2JqZUUc"
   },
   "outputs": [],
   "source": [
    "# get low resolution images for the training set\n",
    "# train_x_px = []\n",
    "train_x = np.array(resized_img_Ytrain)\n",
    "train_x = train_x/255.0\n",
    "test_x = np.array(resized_img_Ytest)\n",
    "test_x = test_x/255.0\n",
    "val_x = np.array(resized_img_Yval)\n",
    "val_x = val_x/255.0\n",
    "# for i in range(np.array(train_x).shape[0]):\n",
    "#   temp = pixalate_image(train_x[i,:,:,:])\n",
    "#   train_x_px.append(temp)\n",
    "\n",
    "train_x_px = np.array(resized_img_Xtrain)\n",
    "train_x_px = train_x_px/255.0\n",
    "\n",
    "\n",
    "# get low resolution images for the validation set\n",
    "# val_x_px = []\n",
    "\n",
    "# for i in range(val_x.shape[0]):\n",
    "#   temp = pixalate_image(val_x[i,:,:,:])\n",
    "#   val_x_px.append(temp)\n",
    "\n",
    "test_x_px = np.array(resized_img_Xtest)\n",
    "test_x_px = test_x_px/255.0\n",
    "\n",
    "val_x_px = np.array(resized_img_Xval)\n",
    "val_x_px = val_x_px/255.0"
   ]
  },
  {
   "cell_type": "code",
   "execution_count": 19,
   "metadata": {
    "id": "SxdUYoGMZUOg"
   },
   "outputs": [],
   "source": [
    "# Input_img = Input(shape=(80, 80, 3))  \n",
    "# x1 = Conv2D(256, (3, 3), activation='relu', padding='same')(Input_img)\n",
    "# x2 = Conv2D(128, (3, 3), activation='relu', padding='same')(x1)\n",
    "# x2 = MaxPool2D( (2, 2))(x2)\n",
    "# encoded = Conv2D(64, (3, 3), activation='relu', padding='same')(x2)\n",
    "\n",
    "# # decoding architecture\n",
    "# x3 = Conv2D(64, (3, 3), activation='relu', padding='same')(encoded)\n",
    "# x3 = UpSampling2D((2, 2))(x3)\n",
    "# x2 = Conv2D(128, (3, 3), activation='relu', padding='same')(x3)\n",
    "# x1 = Conv2D(256, (3, 3), activation='relu', padding='same')(x2)\n",
    "# decoded = Conv2D(3, (3, 3), padding='same')(x1)\n",
    "\n",
    "# autoencoder = Model(Input_img, decoded)\n",
    "# autoencoder.compile(optimizer='adam', loss='mse')"
   ]
  },
  {
   "cell_type": "code",
   "execution_count": null,
   "metadata": {},
   "outputs": [],
   "source": []
  },
  {
   "cell_type": "code",
   "execution_count": 20,
   "metadata": {
    "id": "JSc7hLuNKZFy"
   },
   "outputs": [
    {
     "name": "stdout",
     "output_type": "stream",
     "text": [
      "Metal device set to: Apple M1 Pro\n"
     ]
    },
    {
     "name": "stderr",
     "output_type": "stream",
     "text": [
      "2023-01-28 18:08:37.729596: I tensorflow/core/common_runtime/pluggable_device/pluggable_device_factory.cc:306] Could not identify NUMA node of platform GPU ID 0, defaulting to 0. Your kernel may not have been built with NUMA support.\n",
      "2023-01-28 18:08:37.730158: I tensorflow/core/common_runtime/pluggable_device/pluggable_device_factory.cc:272] Created TensorFlow device (/job:localhost/replica:0/task:0/device:GPU:0 with 0 MB memory) -> physical PluggableDevice (device: 0, name: METAL, pci bus id: <undefined>)\n"
     ]
    }
   ],
   "source": [
    "encoder = Sequential()\n",
    "encoder.add(Flatten(input_shape=[80,80]))\n",
    "\n",
    "encoder.add(Dense(3200,activation=\"relu\"))\n",
    "encoder.add(Dense(1600,activation=\"relu\"))\n",
    "encoder.add(Dense(800,activation=\"relu\"))\n",
    "encoder.add(Dense(400,activation=\"relu\"))\n",
    "encoder.add(Dense(200,activation=\"relu\"))\n",
    "# encoder.add(Dense(2400,activation=\"relu\"))\n",
    "# encoder.add(Dense(1200,activation=\"relu\"))\n",
    "# encoder.add(Dense(600,activation=\"relu\"))\n",
    "# encoder.add(Dense(300,activation=\"relu\"))\n",
    "decoder = Sequential()\n",
    "decoder.add(Dense(400,input_shape=[200],activation='relu'))\n",
    "decoder.add(Dense(800,activation='relu'))\n",
    "decoder.add(Dense(1600,activation='relu'))\n",
    "decoder.add(Dense(3200,activation='relu',input_shape=[2400]))\n",
    "#decoder.add(Dense(400,activation='relu',input_shape = [200]))\n",
    "#decoder.add(Dense(800,activation='relu'))\n",
    "#decoder.add(Dense(1600,activation='relu'))\n",
    "decoder.add(Dense(6400,activation='sigmoid'))\n",
    "\n",
    "# decoder.add(Dense(6400, activation=\"sigmoid\"))\n",
    "#decoder.add(Dense(80*80*3,activation='sigmoid',input_shape=[9600]))\n",
    "decoder.add(Reshape([80,80]))\n",
    "\n",
    "autoencoder = Sequential([encoder,decoder])\n",
    "#autoencoder = Model()\n",
    "autoencoder.compile(loss=\"binary_crossentropy\",optimizer=SGD(lr=1.5),metrics=['accuracy'])\n",
    "#autoencoder.compile(optimizer='adam', loss='mean_absolute_error',metrics = ['accuracy'])"
   ]
  },
  {
   "cell_type": "code",
   "execution_count": 21,
   "metadata": {},
   "outputs": [],
   "source": [
    "decoder = Sequential()\n",
    "decoder.add(Dense(50,input_shape=[25],activation='relu'))\n",
    "decoder.add(Dense(100,activation='relu'))\n",
    "decoder.add(Dense(200,activation='relu'))\n",
    "decoder.add(Dense(400,activation='relu'))\n",
    "decoder.add(Dense(28 * 28, activation=\"sigmoid\"))\n",
    "decoder.add(Reshape([28, 28]))"
   ]
  },
  {
   "cell_type": "code",
   "execution_count": 22,
   "metadata": {},
   "outputs": [],
   "source": [
    "autoencoder = Sequential([encoder, decoder])\n",
    "autoencoder.compile(loss=\"binary_crossentropy\",optimizer=SGD(lr=1.5),metrics=['accuracy'])"
   ]
  },
  {
   "cell_type": "code",
   "execution_count": null,
   "metadata": {},
   "outputs": [],
   "source": []
  },
  {
   "cell_type": "code",
   "execution_count": 23,
   "metadata": {
    "id": "tJd27IavZUMH"
   },
   "outputs": [],
   "source": [
    "train_x_px_gray = np.dot(train_x_px[...,:3], [0.2989, 0.5870, 0.1140])\n",
    "train_x_gray = np.dot(train_x[...,:3], [0.2989, 0.5870, 0.1140])\n",
    "\n",
    "val_x_px_gray = np.dot(val_x_px[...,:3], [0.2989, 0.5870, 0.1140])\n",
    "val_x_gray = np.dot(val_x[...,:3], [0.2989, 0.5870, 0.1140])"
   ]
  },
  {
   "cell_type": "code",
   "execution_count": 24,
   "metadata": {},
   "outputs": [
    {
     "data": {
      "text/plain": [
       "(973, 28, 28)"
      ]
     },
     "execution_count": 24,
     "metadata": {},
     "output_type": "execute_result"
    }
   ],
   "source": [
    "val_x_gray.shape"
   ]
  },
  {
   "cell_type": "code",
   "execution_count": 25,
   "metadata": {},
   "outputs": [],
   "source": [
    "# model=Sequential()\n",
    "\n",
    "# model.add(Conv2D(64, (3,3), activation='relu', padding='same', input_shape=(80,80,1)))\n",
    "# model.add(MaxPooling2D((2,2), padding='same'))\n",
    "# model.add(Conv2D(32, (3,3),activation='relu',padding='same'))\n",
    "# model.add(MaxPooling2D((2,2), padding='same'))\n",
    "# model.add(Conv2D(16, (3,3),activation='relu',padding='same'))\n",
    "# model.add(MaxPooling2D((2,2), padding='same'))\n",
    "\n",
    "# model.add(Conv2D(16, (3,3), activation='relu', padding='same'))\n",
    "# model.add(UpSampling2D((2,2)))\n",
    "\n",
    "# model.add(Conv2D(32, (3,3), activation='relu', padding='same'))\n",
    "# model.add(UpSampling2D((2,2)))\n",
    "\n",
    "# model.add(Conv2D(64, (3,3), activation='relu', padding='same'))\n",
    "# model.add(UpSampling2D((2,2)))\n",
    "\n",
    "# model.add(Conv2D(3, (3,3), activation='relu', padding='same'))\n",
    "\n",
    "# model.compile(optimizer='adam',loss='mean_squared_error',metrics=['accuracy'])\n",
    "\n",
    "# model.summary()"
   ]
  },
  {
   "cell_type": "code",
   "execution_count": 26,
   "metadata": {},
   "outputs": [],
   "source": [
    "# a_e = model.fit(train_x_px_gray, train_x_gray,\n",
    "#             epochs=100,\n",
    "#             batch_size=32,\n",
    "#             shuffle=True,\n",
    "#             validation_data=(val_x_px_gray, val_x_gray),\n",
    "#             callbacks=[early_stopper]\n",
    "#             )"
   ]
  },
  {
   "cell_type": "code",
   "execution_count": 28,
   "metadata": {
    "colab": {
     "base_uri": "https://localhost:8080/"
    },
    "id": "6FvKow_6ZUKL",
    "outputId": "86a11713-cf8b-43d4-8be1-38272cc2fa2a"
   },
   "outputs": [
    {
     "name": "stdout",
     "output_type": "stream",
     "text": [
      "Epoch 1/100\n"
     ]
    },
    {
     "name": "stderr",
     "output_type": "stream",
     "text": [
      "2023-01-28 18:09:01.067685: W tensorflow/core/platform/profile_utils/cpu_utils.cc:128] Failed to get CPU frequency: 0 Hz\n",
      "2023-01-28 18:09:01.303274: I tensorflow/core/grappler/optimizers/custom_graph_optimizer_registry.cc:114] Plugin optimizer for device_type GPU is enabled.\n"
     ]
    },
    {
     "name": "stdout",
     "output_type": "stream",
     "text": [
      "308/308 [==============================] - ETA: 0s - loss: 0.6920 - accuracy: 0.0359"
     ]
    },
    {
     "name": "stderr",
     "output_type": "stream",
     "text": [
      "2023-01-28 18:09:04.960010: I tensorflow/core/grappler/optimizers/custom_graph_optimizer_registry.cc:114] Plugin optimizer for device_type GPU is enabled.\n"
     ]
    },
    {
     "name": "stdout",
     "output_type": "stream",
     "text": [
      "308/308 [==============================] - 4s 12ms/step - loss: 0.6920 - accuracy: 0.0359 - val_loss: 0.6886 - val_accuracy: 0.0393\n",
      "Epoch 2/100\n",
      "308/308 [==============================] - 3s 10ms/step - loss: 0.6782 - accuracy: 0.0486 - val_loss: 0.6564 - val_accuracy: 0.0527\n",
      "Epoch 3/100\n",
      "308/308 [==============================] - 3s 10ms/step - loss: 0.6551 - accuracy: 0.0577 - val_loss: 0.6396 - val_accuracy: 0.0586\n",
      "Epoch 4/100\n",
      "308/308 [==============================] - 3s 10ms/step - loss: 0.6470 - accuracy: 0.0584 - val_loss: 0.6366 - val_accuracy: 0.0525\n",
      "Epoch 5/100\n",
      "308/308 [==============================] - 3s 10ms/step - loss: 0.6441 - accuracy: 0.0575 - val_loss: 0.6397 - val_accuracy: 0.0569\n",
      "Epoch 6/100\n",
      "308/308 [==============================] - 3s 10ms/step - loss: 0.6418 - accuracy: 0.0592 - val_loss: 0.6312 - val_accuracy: 0.0545\n",
      "Epoch 7/100\n",
      "308/308 [==============================] - 3s 10ms/step - loss: 0.6395 - accuracy: 0.0586 - val_loss: 0.6496 - val_accuracy: 0.0478\n",
      "Epoch 8/100\n",
      "308/308 [==============================] - 3s 10ms/step - loss: 0.6401 - accuracy: 0.0603 - val_loss: 0.6306 - val_accuracy: 0.0516\n",
      "Epoch 9/100\n",
      "308/308 [==============================] - 3s 10ms/step - loss: 0.6386 - accuracy: 0.0582 - val_loss: 0.6295 - val_accuracy: 0.0576\n",
      "Epoch 10/100\n",
      "308/308 [==============================] - 3s 10ms/step - loss: 0.6370 - accuracy: 0.0594 - val_loss: 0.6291 - val_accuracy: 0.0581\n",
      "Epoch 11/100\n",
      "308/308 [==============================] - 3s 10ms/step - loss: 0.6369 - accuracy: 0.0603 - val_loss: 0.6298 - val_accuracy: 0.0523\n",
      "Epoch 12/100\n",
      "308/308 [==============================] - 3s 10ms/step - loss: 0.6362 - accuracy: 0.0583 - val_loss: 0.6284 - val_accuracy: 0.0576\n",
      "Epoch 13/100\n",
      "308/308 [==============================] - 3s 10ms/step - loss: 0.6360 - accuracy: 0.0600 - val_loss: 0.6279 - val_accuracy: 0.0577\n",
      "Epoch 14/100\n",
      "308/308 [==============================] - 3s 10ms/step - loss: 0.6353 - accuracy: 0.0597 - val_loss: 0.6269 - val_accuracy: 0.0543\n",
      "Epoch 15/100\n",
      "308/308 [==============================] - 3s 10ms/step - loss: 0.6342 - accuracy: 0.0588 - val_loss: 0.6295 - val_accuracy: 0.0552\n",
      "Epoch 16/100\n",
      "308/308 [==============================] - 3s 10ms/step - loss: 0.6329 - accuracy: 0.0613 - val_loss: 0.6295 - val_accuracy: 0.0639\n",
      "Epoch 17/100\n",
      "308/308 [==============================] - 3s 10ms/step - loss: 0.6304 - accuracy: 0.0647 - val_loss: 0.6251 - val_accuracy: 0.0597\n",
      "Epoch 18/100\n",
      "308/308 [==============================] - 3s 10ms/step - loss: 0.6284 - accuracy: 0.0651 - val_loss: 0.6237 - val_accuracy: 0.0598\n",
      "Epoch 19/100\n",
      "308/308 [==============================] - 3s 10ms/step - loss: 0.6278 - accuracy: 0.0660 - val_loss: 0.6217 - val_accuracy: 0.0622\n",
      "Epoch 20/100\n",
      "308/308 [==============================] - 3s 10ms/step - loss: 0.6273 - accuracy: 0.0644 - val_loss: 0.6212 - val_accuracy: 0.0598\n",
      "Epoch 21/100\n",
      "308/308 [==============================] - 3s 10ms/step - loss: 0.6274 - accuracy: 0.0658 - val_loss: 0.6210 - val_accuracy: 0.0664\n",
      "Epoch 22/100\n",
      "308/308 [==============================] - 3s 10ms/step - loss: 0.6260 - accuracy: 0.0675 - val_loss: 0.6208 - val_accuracy: 0.0562\n",
      "Epoch 23/100\n",
      "308/308 [==============================] - 3s 10ms/step - loss: 0.6265 - accuracy: 0.0670 - val_loss: 0.6191 - val_accuracy: 0.0585\n",
      "Epoch 24/100\n",
      "308/308 [==============================] - 3s 10ms/step - loss: 0.6261 - accuracy: 0.0652 - val_loss: 0.6190 - val_accuracy: 0.0601\n",
      "Epoch 25/100\n",
      "308/308 [==============================] - 3s 10ms/step - loss: 0.6253 - accuracy: 0.0668 - val_loss: 0.6261 - val_accuracy: 0.0613\n",
      "Epoch 26/100\n",
      "308/308 [==============================] - 3s 10ms/step - loss: 0.6260 - accuracy: 0.0680 - val_loss: 0.6207 - val_accuracy: 0.0587\n",
      "Epoch 27/100\n",
      "308/308 [==============================] - 3s 10ms/step - loss: 0.6253 - accuracy: 0.0662 - val_loss: 0.6198 - val_accuracy: 0.0617\n",
      "Epoch 28/100\n",
      "308/308 [==============================] - 3s 10ms/step - loss: 0.6252 - accuracy: 0.0683 - val_loss: 0.6196 - val_accuracy: 0.0598\n",
      "Epoch 28: early stopping\n"
     ]
    }
   ],
   "source": [
    "early_stopper = EarlyStopping(monitor='val_loss', min_delta=0.0001, patience=4, verbose=1, mode='auto')\n",
    "\n",
    "a_e = autoencoder.fit(train_x_px_gray, train_x_gray,\n",
    "            epochs=100,\n",
    "            batch_size=32,\n",
    "            shuffle=True,\n",
    "            validation_data=(val_x_px_gray, val_x_gray),\n",
    "            callbacks=[early_stopper]\n",
    "            )"
   ]
  },
  {
   "cell_type": "code",
   "execution_count": 29,
   "metadata": {},
   "outputs": [],
   "source": [
    "test_x_px_gray = np.dot(test_x_px[...,:3], [0.2989, 0.5870, 0.1140])"
   ]
  },
  {
   "cell_type": "code",
   "execution_count": 30,
   "metadata": {
    "colab": {
     "base_uri": "https://localhost:8080/"
    },
    "id": "RGA0XMmSYXer",
    "outputId": "7709b04a-8add-4c6a-b181-0682965be666"
   },
   "outputs": [
    {
     "name": "stdout",
     "output_type": "stream",
     "text": [
      "31/31 [==============================] - 0s 4ms/step\n"
     ]
    },
    {
     "name": "stderr",
     "output_type": "stream",
     "text": [
      "2023-01-28 18:10:31.032895: I tensorflow/core/grappler/optimizers/custom_graph_optimizer_registry.cc:114] Plugin optimizer for device_type GPU is enabled.\n"
     ]
    }
   ],
   "source": [
    "predictions = autoencoder.predict(test_x_px_gray)"
   ]
  },
  {
   "cell_type": "code",
   "execution_count": 31,
   "metadata": {},
   "outputs": [
    {
     "data": {
      "text/plain": [
       "(985, 28, 28)"
      ]
     },
     "execution_count": 31,
     "metadata": {},
     "output_type": "execute_result"
    }
   ],
   "source": [
    "test_x_px_gray.shape"
   ]
  },
  {
   "cell_type": "code",
   "execution_count": 32,
   "metadata": {
    "colab": {
     "base_uri": "https://localhost:8080/"
    },
    "id": "8SSuhEGsaYiX",
    "outputId": "ecb49bec-1d5f-42d3-dc1c-700831db4365"
   },
   "outputs": [
    {
     "data": {
      "image/png": "[encoded data removed]",
      "text/plain": [
       "<Figure size 2000x1000 with 10 Axes>"
      ]
     },
     "metadata": {},
     "output_type": "display_data"
    }
   ],
   "source": [
    "n = 5\n",
    "plt.figure(figsize= (20,10))\n",
    "\n",
    "for i in range(n):\n",
    "  ax = plt.subplot(2, n, i+1)\n",
    "  plt.imshow(test_x_px_gray[i+10])\n",
    "  ax.get_xaxis().set_visible(False)\n",
    "  ax.get_yaxis().set_visible(False)\n",
    "\n",
    "  ax = plt.subplot(2, n, i+1+n)\n",
    "  plt.imshow(predictions[i+10])\n",
    "  ax.get_xaxis().set_visible(False)\n",
    "  ax.get_yaxis().set_visible(False)\n",
    "\n",
    "plt.show()"
   ]
  },
  {
   "cell_type": "code",
   "execution_count": null,
   "metadata": {
    "id": "ij1SLjUvaYQq"
   },
   "outputs": [],
   "source": []
  },
  {
   "cell_type": "code",
   "execution_count": null,
   "metadata": {
    "id": "UUt8MRbIaX6x"
   },
   "outputs": [],
   "source": []
  },
  {
   "cell_type": "code",
   "execution_count": null,
   "metadata": {
    "id": "rWZuItVGaX4b"
   },
   "outputs": [],
   "source": []
  },
  {
   "cell_type": "code",
   "execution_count": null,
   "metadata": {
    "id": "24Spm8eQLwCB"
   },
   "outputs": [],
   "source": [
    "# encoder = tf.keras.models.Sequential()\n",
    "\n",
    "# encoder.add(tf.keras.layers.Conv2D(32, 3, strides=1, padding='same', activation='relu', input_shape=(128,128,3)))\n",
    "# encoder.add(tf.keras.layers.MaxPooling2D(2, strides=2))\n",
    "\n",
    "# encoder.add(tf.keras.layers.Conv2D(64, 3, strides=1, padding='same', activation='relu'))\n",
    "# encoder.add(tf.keras.layers.MaxPooling2D(2, strides=2))\n",
    "\n",
    "# encoder.add(tf.keras.layers.Conv2D(128, 3, strides=1, padding='same', activation='relu'))\n",
    "# encoder.add(tf.keras.layers.MaxPooling2D(2, strides=2))\n",
    "\n",
    "# encoder.summary()\n"
   ]
  },
  {
   "cell_type": "code",
   "execution_count": null,
   "metadata": {
    "id": "JhzXjlvTMMhZ"
   },
   "outputs": [],
   "source": [
    "# decoder = tf.keras.models.models.Sequential()\n",
    "\n",
    "# decoder.add(tf.keras.models.layers.Conv2DTranspose(128, 3, strides=1, padding='same', activation='relu', input_shape= (16,16,128)))\n",
    "# decoder.add(tf.keras.models.layers.2D(2))\n",
    "\n",
    "# decoder.add(tf.keras.models.layers.Conv2D(16, 3, strides=1, padding='same', activation='relu'))\n",
    "# decoder.add(tf.keras.models.layers.UpSampling2D(2))\n",
    "\n",
    "# decoder.add(tf.keras.models.layers.Conv2D(3, 3, strides=1, padding='same', activation='relu'))\n",
    "# decoder.add(tf.keras.models.layers.UpSampling2D(2))\n",
    "\n",
    "# decoder.summary()"
   ]
  },
  {
   "cell_type": "code",
   "execution_count": null,
   "metadata": {
    "id": "Nu-nKC-nWLFG"
   },
   "outputs": [],
   "source": [
    "# import numpy as np\n",
    "# from keras.layers import UpSampling2D,Conv2DTranspose\n",
    "# from keras.models import Sequential\n",
    "# model = Sequential()\n",
    "# model.add(Conv2DTranspose(2, 3, input_shape=(3,3,1)))\n",
    "\n",
    "# x = np.arange(9).reshape(1,3,3,1)\n",
    "# x[0,:,:,0]  # this is what x looks like initially\n",
    "\n",
    "# y = model.predict(x)\n",
    "# y[0,:,:,0] # this is what it looks like after upsampling"
   ]
  },
  {
   "cell_type": "code",
   "execution_count": null,
   "metadata": {
    "id": "TC3ZPTMGXCwe"
   },
   "outputs": [],
   "source": [
    "# import numpy as np\n",
    "# from keras.layers import UpSampling2D,Conv2DTranspose\n",
    "# from keras.models import Sequential\n",
    "# model = Sequential()\n",
    "# # model.add(Conv2DTranspose(2, 3, input_shape=(3,3,1)))\n",
    "# model.add(UpSampling2D(size=(2,2), input_shape=(3,3,1)))\n",
    "\n",
    "# x = np.arange(9).reshape(1,3,3,1)\n",
    "# x[0,:,:,0]  # this is what x looks like initially\n",
    "\n",
    "# y = model.predict(x)\n",
    "# y[0,:,:,0] # this is what it looks like after upsampling"
   ]
  },
  {
   "cell_type": "code",
   "execution_count": null,
   "metadata": {
    "id": "bPiUbQGxYD9R"
   },
   "outputs": [],
   "source": [
    "df = pd.DataFrame(a_e.history)"
   ]
  },
  {
   "cell_type": "code",
   "execution_count": null,
   "metadata": {
    "colab": {
     "base_uri": "https://localhost:8080/"
    },
    "id": "qDlfQ5ySJbzH",
    "outputId": "23a181f4-501d-45ce-9357-068cb8c230df"
   },
   "outputs": [],
   "source": [
    "df.plot()"
   ]
  },
  {
   "cell_type": "code",
   "execution_count": null,
   "metadata": {
    "id": "X7uAEG_8KRpr"
   },
   "outputs": [],
   "source": []
  }
 ],
 "metadata": {
  "accelerator": "GPU",
  "colab": {
   "provenance": []
  },
  "gpuClass": "standard",
  "kernelspec": {
   "display_name": "Python 3 (ipykernel)",
   "language": "python",
   "name": "python3"
  },
  "language_info": {
   "codemirror_mode": {
    "name": "ipython",
    "version": 3
   },
   "file_extension": ".py",
   "mimetype": "text/x-python",
   "name": "python",
   "nbconvert_exporter": "python",
   "pygments_lexer": "ipython3",
   "version": "3.10.8"
  }
 },
 "nbformat": 4,
 "nbformat_minor": 1
}
